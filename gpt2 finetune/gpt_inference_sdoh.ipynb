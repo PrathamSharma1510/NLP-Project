{
  "cells": [
    {
      "cell_type": "code",
      "execution_count": null,
      "metadata": {
        "id": "yXH2I12fGCv2"
      },
      "outputs": [],
      "source": [
        "from transformers import GPT2LMHeadModel, GPT2Tokenizer\n",
        "import pandas as pd\n",
        "import os\n"
      ]
    },
    {
      "cell_type": "code",
      "execution_count": null,
      "metadata": {
        "colab": {
          "base_uri": "https://localhost:8080/"
        },
        "id": "nAT7dJK6JCLD",
        "outputId": "7a47b504-6943-4c84-ebbf-51360dbea7fd"
      },
      "outputs": [],
      "source": [
        "from google.colab import drive\n",
        "drive.mount('/content/drive')\n"
      ]
    },
    {
      "cell_type": "code",
      "execution_count": null,
      "metadata": {
        "id": "48KmSmyeJDxo"
      },
      "outputs": [],
      "source": [
        "!unzip \"/content/drive/MyDrive/NLP/model_output.zip\" -d \"/content/model_output\" > /dev/null 2>&1\n",
        "!unzip \"/content/combined_text.zip\" -d \"/content/combined_text\" > /dev/null 2>&1"
      ]
    },
    {
      "cell_type": "code",
      "execution_count": null,
      "metadata": {
        "id": "0HyCxucUGDZc"
      },
      "outputs": [],
      "source": [
        "def load_model_and_tokenizer(model_path):\n",
        "    model = GPT2LMHeadModel.from_pretrained(model_path)\n",
        "    tokenizer = GPT2Tokenizer.from_pretrained(model_path)\n",
        "    return model, tokenizer"
      ]
    },
    {
      "cell_type": "code",
      "execution_count": null,
      "metadata": {
        "id": "mM3IStPSGFuw"
      },
      "outputs": [],
      "source": [
        "def generate_text(model, tokenizer, sequence, max_length=10):\n",
        "    ids = tokenizer.encode(sequence, return_tensors='pt')\n",
        "    final_outputs = model.generate(\n",
        "        ids,\n",
        "        max_length=max_length + len(ids[0]),\n",
        "        pad_token_id=tokenizer.eos_token_id,\n",
        "        top_k=10,\n",
        "        top_p=1,\n",
        "    )\n",
        "    generated_text = tokenizer.decode(final_outputs[0], skip_special_tokens=True)\n",
        "    return generated_text"
      ]
    },
    {
      "cell_type": "code",
      "execution_count": null,
      "metadata": {
        "id": "lPLQFN22GiqU"
      },
      "outputs": [],
      "source": [
        "def process_clinical_notes(txt_file_path, model, tokenizer, output_file_path):\n",
        "    with open(txt_file_path, 'r', encoding='utf-8') as f, \\\n",
        "         open(output_file_path, 'w', encoding='utf-8') as out_f:\n",
        "         i=0\n",
        "         for line in f:\n",
        "            print(line)\n",
        "            if i% 2 ==0: # Extract just the clinical note from each line\n",
        "              note = line.strip().split('\\n')[0]\n",
        "              # print(note)\n",
        "              generated_text = generate_text(model, tokenizer, note, max_length=150)\n",
        "              out_f.write(f\"Generated Prediction: {generated_text}\\n\\n\")\n",
        "              # print(generated_text)\n",
        "\n",
        "            else: pass\n",
        "            i=i+1"
      ]
    },
    {
      "cell_type": "code",
      "execution_count": null,
      "metadata": {
        "id": "7EgSIMm5GNr1"
      },
      "outputs": [],
      "source": [
        "os.makedirs('/content/output_gpt', exist_ok=True)\n",
        "model_path = \"/content/model_output/model_output/sdoh_extracotor_gpt\"  # Adjust if necessary\n",
        "sdoh_txt_path = \"/content/combined_text/content/combined_text/test.txt\"  # Update this path to your test dataset text file\n",
        "sdoh_output_path = \"/content/output_gpt/predicted_labels_sdoh.txt\"\n",
        "\n",
        "mts_txt_path = \"/content/combined_text/content/combined_text/mts_test.txt\"\n",
        "mts_output_path = \"/content/output_gpt/predicted_labels_mts.txt\""
      ]
    },
    {
      "cell_type": "code",
      "execution_count": null,
      "metadata": {
        "colab": {
          "base_uri": "https://localhost:8080/",
          "height": 338
        },
        "id": "r7KmiIOKGVtW",
        "outputId": "09fe6772-e409-44c9-dbd3-72b230e89173"
      },
      "outputs": [],
      "source": [
        "# Load model and tokenizer\n",
        "model, tokenizer = load_model_and_tokenizer(model_path)\n",
        "\n",
        "# Process and generate predictions\n",
        "process_clinical_notes(sdoh_txt_path, model, tokenizer, sdoh_output_path)\n",
        "process_clinical_notes(mts_txt_path, model, tokenizer, mts_output_path)"
      ]
    },
    {
      "cell_type": "code",
      "execution_count": null,
      "metadata": {
        "id": "fWx0BJ_FxGu5"
      },
      "outputs": [],
      "source": [
        "model, tokenizer = load_model_and_tokenizer(model_path)\n"
      ]
    },
    {
      "cell_type": "code",
      "execution_count": null,
      "metadata": {
        "colab": {
          "base_uri": "https://localhost:8080/",
          "height": 1000
        },
        "collapsed": true,
        "id": "-VDawJnpw6Wo",
        "outputId": "45bc8a34-19d6-41b8-8449-2d24326034b6"
      },
      "outputs": [],
      "source": [
        "# @title\n",
        "process_clinical_notes(mts_txt_path, model, tokenizer, mts_output_path)"
      ]
    },
    {
      "cell_type": "code",
      "execution_count": null,
      "metadata": {
        "id": "l9M4Nk29Plbo"
      },
      "outputs": [],
      "source": [
        "import pandas as pd\n",
        "import re\n",
        "\n",
        "def extract_info_and_create_csv(input_file_path, output_csv_path):\n",
        "    # Pattern to match the lines and extract relevant parts\n",
        "    pattern = re.compile(r'Generated Prediction: Get the SDOH_LABEL and ADVERSE_LABEL from the following clinical note: (.+) \\[SDOH_LABEL\\]: (\\w+) \\[ADVERSE_LABEL\\]: (\\w+)')\n",
        "\n",
        "    # Initialize lists to hold extracted information\n",
        "    notes = []\n",
        "    sdoh_labels = []\n",
        "    adverse_labels = []\n",
        "\n",
        "    with open(input_file_path, 'r', encoding='utf-8') as f:\n",
        "        for line in f:\n",
        "            # Check if line matches the expected starting text\n",
        "            match = pattern.match(line)\n",
        "            if match:\n",
        "                # Extract information from the matched groups\n",
        "                note, sdoh_label, adverse_label = match.groups()\n",
        "                notes.append(note)\n",
        "                sdoh_labels.append(sdoh_label)\n",
        "                adverse_labels.append(adverse_label)\n",
        "\n",
        "    # Create a DataFrame from the extracted information\n",
        "    df = pd.DataFrame({\n",
        "        'Note': notes,\n",
        "        'SDOH_LABEL': sdoh_labels,\n",
        "        'ADVERSE_LABEL': adverse_labels\n",
        "    })\n",
        "\n",
        "    # Write the DataFrame to a CSV file\n",
        "    df.to_csv(output_csv_path, index=False)\n",
        "\n",
        "# Define input and output paths\n",
        "sdoh_input_file_path = \"/content/output_gpt/predicted_labels_sdoh.txt\"\n",
        "sdoh_output_csv_path = \"/content/output_gpt/predictions_sdoh.csv\"\n",
        "\n",
        "mts_input_file_path = \"/content/output_gpt/predicted_labels_mts.txt\"\n",
        "mts_output_csv_path = \"/content/output_gpt/predictions_mts.csv\"\n",
        "# Call the function to extract information and create the CSV\n",
        "extract_info_and_create_csv(sdoh_input_file_path, sdoh_output_csv_path)\n",
        "extract_info_and_create_csv(mts_input_file_path, mts_output_csv_path)"
      ]
    },
    {
      "cell_type": "code",
      "execution_count": null,
      "metadata": {
        "id": "kPMiTizYY-xP"
      },
      "outputs": [],
      "source": [
        "import pandas as pd\n",
        "from sklearn.metrics import accuracy_score, confusion_matrix\n",
        "import matplotlib.pyplot as plt\n",
        "import seaborn as sns\n",
        "import numpy as np\n",
        "from sklearn.model_selection import train_test_split\n",
        "\n",
        "def plot_confusion_matrix(cm, classes, title='Confusion Matrix', cmap=plt.cm.Blues):\n",
        "    plt.imshow(cm, interpolation='nearest', cmap=cmap)\n",
        "    plt.title(title)\n",
        "    plt.colorbar()\n",
        "    tick_marks = np.arange(len(classes))\n",
        "    plt.xticks(tick_marks, classes, rotation=45)\n",
        "    plt.yticks(tick_marks, classes)\n",
        "\n",
        "    thresh = cm.max() / 2.\n",
        "    for i in range(len(classes)):\n",
        "        for j in range(len(classes)):\n",
        "            plt.text(j, i, format(cm[i, j], 'd'),\n",
        "                     horizontalalignment=\"center\",\n",
        "                     color=\"white\" if cm[i, j] > thresh else \"black\")\n",
        "\n",
        "    plt.tight_layout()\n",
        "    plt.ylabel('True label')\n",
        "    plt.xlabel('Predicted label')"
      ]
    },
    {
      "cell_type": "code",
      "execution_count": null,
      "metadata": {
        "id": "vBUXq2PIZRuA"
      },
      "outputs": [],
      "source": [
        "# Load true labels and predicted labels from CSV files\n",
        "df = pd.read_csv('Iteration__1.csv')\n",
        "training_file, true_labels_df = train_df, test_df = train_test_split(df, test_size=0.2, random_state=42)\n",
        "predicted_labels_df = pd.read_csv('/content/output_gpt/predictions_sdoh.csv')\n",
        "\n",
        "# Assuming the structure of both files is: ['Note', 'SDOH_LABEL', 'ADVERSE_LABEL']\n",
        "# And that the rows in both files are aligned\n",
        "\n",
        "# Calculate accuracies\n",
        "sdoh_accuracy = accuracy_score(true_labels_df['label'], predicted_labels_df['SDOH_LABEL'])\n",
        "adverse_accuracy = accuracy_score(true_labels_df['adverse'], predicted_labels_df['ADVERSE_LABEL'])\n",
        "\n",
        "print(f\"SDOH Label Accuracy: {sdoh_accuracy * 100:.2f}%\")\n",
        "print(f\"Adverse Label Accuracy: {adverse_accuracy * 100:.2f}%\")\n",
        "\n",
        "# Calculate confusion matrices\n",
        "sdoh_cm = confusion_matrix(true_labels_df['label'], predicted_labels_df['SDOH_LABEL'])\n",
        "adverse_cm = confusion_matrix(true_labels_df['adverse'], predicted_labels_df['ADVERSE_LABEL'])\n",
        "\n",
        "\n",
        "\n",
        "# Plotting confusion matrices\n",
        "# You need to replace `unique_labels` with the actual labels used in your dataset.\n",
        "# For SDOH_LABEL\n",
        "unique_sdoh_labels = true_labels_df['label'].unique()\n",
        "plt.figure(figsize=(10, 7))\n",
        "plot_confusion_matrix(sdoh_cm, classes=unique_sdoh_labels, title='SDOH Label Confusion Matrix')\n",
        "plt.show()\n",
        "\n",
        "# For ADVERSE_LABEL\n",
        "unique_adverse_labels = true_labels_df['adverse'].unique()\n",
        "plt.figure(figsize=(10, 7))\n",
        "plot_confusion_matrix(adverse_cm, classes=unique_adverse_labels, title='Adverse Label Confusion Matrix')\n",
        "plt.show()\n"
      ]
    },
    {
      "cell_type": "code",
      "execution_count": null,
      "metadata": {
        "id": "qDW1vSLpZJQ1"
      },
      "outputs": [],
      "source": [
        "# Load true labels and predicted labels from CSV files\n",
        "true_labels_df = pd.read_csv('augmented_mts.csv')\n",
        "predicted_labels_df = pd.read_csv('/content/output_gpt/predictions_sdoh.csv')\n",
        "\n",
        "# Assuming the structure of both files is: ['Note', 'SDOH_LABEL', 'ADVERSE_LABEL']\n",
        "# And that the rows in both files are aligned\n",
        "\n",
        "# Calculate accuracies\n",
        "sdoh_accuracy = accuracy_score(true_labels_df['SDOH label'], predicted_labels_df['SDOH_LABEL'])\n",
        "adverse_accuracy = accuracy_score(true_labels_df['Adverse Category'], predicted_labels_df['ADVERSE_LABEL'])\n",
        "\n",
        "print(f\"SDOH Label Accuracy: {sdoh_accuracy * 100:.2f}%\")\n",
        "print(f\"Adverse Label Accuracy: {adverse_accuracy * 100:.2f}%\")\n",
        "\n",
        "# Calculate confusion matrices\n",
        "sdoh_cm = confusion_matrix(true_labels_df['SDOH label'], predicted_labels_df['SDOH_LABEL'])\n",
        "adverse_cm = confusion_matrix(true_labels_df['Adverse Category'], predicted_labels_df['ADVERSE_LABEL'])\n",
        "\n",
        "\n",
        "\n",
        "# Plotting confusion matrices\n",
        "# You need to replace `unique_labels` with the actual labels used in your dataset.\n",
        "# For SDOH_LABEL\n",
        "unique_sdoh_labels = true_labels_df['SDOH label'].unique()\n",
        "plt.figure(figsize=(10, 7))\n",
        "plot_confusion_matrix(sdoh_cm, classes=unique_sdoh_labels, title='SDOH Label Confusion Matrix')\n",
        "plt.show()\n",
        "\n",
        "# For ADVERSE_LABEL\n",
        "unique_adverse_labels = true_labels_df['Adverse Category'].unique()\n",
        "plt.figure(figsize=(10, 7))\n",
        "plot_confusion_matrix(adverse_cm, classes=unique_adverse_labels, title='Adverse Label Confusion Matrix')\n",
        "plt.show()\n"
      ]
    }
  ],
  "metadata": {
    "accelerator": "GPU",
    "colab": {
      "gpuType": "T4",
      "provenance": []
    },
    "kernelspec": {
      "display_name": "Python 3",
      "name": "python3"
    },
    "language_info": {
      "name": "python"
    }
  },
  "nbformat": 4,
  "nbformat_minor": 0
}
