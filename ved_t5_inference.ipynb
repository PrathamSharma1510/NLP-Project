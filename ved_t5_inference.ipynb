{
 "cells": [
  {
   "cell_type": "code",
   "execution_count": 5,
   "id": "30eeb892-0217-4d7b-ac78-6239108957b8",
   "metadata": {},
   "outputs": [],
   "source": [
    "import pandas as pd\n",
    "from transformers import T5ForConditionalGeneration, T5Tokenizer\n",
    "\n",
    "\n"
   ]
  },
  {
   "cell_type": "code",
   "execution_count": 6,
   "id": "d9675969-79bc-4e57-a88b-07e55c948f37",
   "metadata": {},
   "outputs": [],
   "source": [
    "csv_file_path = 'MTS-Dialog-TestSet-2-MEDIQA-Sum-2023.csv'\n",
    "model_path = \"./sdoh_t5_model\"  # Adjust this path to where your fine-tuned model is saved\n"
   ]
  },
  {
   "cell_type": "code",
   "execution_count": 7,
   "id": "d5f5038d-d41c-4bcb-bda6-fc7454303a26",
   "metadata": {},
   "outputs": [],
   "source": [
    "data = pd.read_csv(csv_file_path)"
   ]
  },
  {
   "cell_type": "code",
   "execution_count": 8,
   "id": "8dd7d350-3940-4279-877d-4a146dbfd66b",
   "metadata": {},
   "outputs": [],
   "source": [
    "# Load the fine-tuned model and tokenizer\n",
    "model = T5ForConditionalGeneration.from_pretrained(model_path)\n",
    "tokenizer = T5Tokenizer.from_pretrained(model_path)"
   ]
  },
  {
   "cell_type": "code",
   "execution_count": 9,
   "id": "d18042af-cbf7-4412-b114-0e636dd9fa9b",
   "metadata": {},
   "outputs": [],
   "source": [
    "def predict_sodh(text):\n",
    "    prefix = \"Classify SDOH and adversity: \"  # Adjust if your training prefix was different\n",
    "    input_text = prefix + text\n",
    "    input_ids = tokenizer.encode(input_text, return_tensors=\"pt\", max_length=512, truncation=True)\n",
    "    output = model.generate(input_ids)\n",
    "    decoded_output = tokenizer.decode(output[0], skip_special_tokens=True)\n",
    "    return decoded_output"
   ]
  },
  {
   "cell_type": "code",
   "execution_count": 10,
   "id": "e848c2dd-8bbd-49ce-8b96-af11cfab7d19",
   "metadata": {
    "tags": []
   },
   "outputs": [
    {
     "name": "stderr",
     "output_type": "stream",
     "text": [
      "/apps/jupyter/6.5.4/lib/python3.10/site-packages/transformers/generation/utils.py:1260: UserWarning: Using the model-agnostic default `max_length` (=20) to control thegeneration length. We recommend setting `max_new_tokens` to control the maximum length of the generation.\n",
      "  warnings.warn(\n"
     ]
    },
    {
     "name": "stdout",
     "output_type": "stream",
     "text": [
      "   ID section_header SDOH_Prediction\n",
      "0   0             CC                \n",
      "1   1      FAM/SOCHX                \n",
      "2   2          GENHX                \n",
      "3   3        ALLERGY                \n",
      "4   4     ASSESSMENT                \n"
     ]
    }
   ],
   "source": [
    "data['SDOH_Prediction'] = data['section_text'].apply(predict_sodh)\n",
    "\n",
    "# Display the predictions\n",
    "print(data[['ID', 'section_header', 'SDOH_Prediction']].head())\n"
   ]
  },
  {
   "cell_type": "code",
   "execution_count": 11,
   "id": "4db348f4-bf27-444e-abea-93ba090416eb",
   "metadata": {
    "tags": []
   },
   "outputs": [],
   "source": [
    "data.to_csv('MTS-Dialog-TestSet-2-MEDIQA-Sum-2023_with_predictions.csv', index=False)\n"
   ]
  },
  {
   "cell_type": "code",
   "execution_count": null,
   "id": "b28ae18a-41a3-4184-8270-763e46f27a1e",
   "metadata": {},
   "outputs": [],
   "source": []
  }
 ],
 "metadata": {
  "kernelspec": {
   "display_name": "Python 3 (ipykernel)",
   "language": "python",
   "name": "python3"
  },
  "language_info": {
   "codemirror_mode": {
    "name": "ipython",
    "version": 3
   },
   "file_extension": ".py",
   "mimetype": "text/x-python",
   "name": "python",
   "nbconvert_exporter": "python",
   "pygments_lexer": "ipython3",
   "version": "3.10.12"
  }
 },
 "nbformat": 4,
 "nbformat_minor": 5
}
